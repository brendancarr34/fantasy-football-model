{
  "nbformat": 4,
  "nbformat_minor": 0,
  "metadata": {
    "colab": {
      "provenance": [],
      "collapsed_sections": [
        "Kst7vE0BSJKu",
        "PVKgocucSS1y",
        "UCjgTN7JFEtQ",
        "CxwSb2utFLVE",
        "em5NzoJqFi5R",
        "cUR02z8IHlhn",
        "C4uBhrPhSM_s",
        "HeEyxDVB0FYs",
        "w4wanwbKtoMd",
        "RmjskyYPMGRq",
        "Acdb0YMqU2Qh"
      ]
    },
    "kernelspec": {
      "name": "python3",
      "display_name": "Python 3"
    },
    "language_info": {
      "name": "python"
    }
  },
  "cells": [
    {
      "cell_type": "markdown",
      "source": [
        "# **Fantasy Model Application and Database**\n",
        "\n",
        "---\n",
        "\n",
        "This application aims to keep a historical record of any fantasy football league and provide some visualizations for league data.\n",
        "<br><br>\n",
        "***HOW TO RUN THIS APPLICATION:***\n",
        "- First, run the **Build** section. This sets up global functions and the application entities.\n",
        "- Then, run the **Create** section. This creates the application and adds data to the database.\n",
        "- Finally, run any of the cells in the **Run** section in any order."
      ],
      "metadata": {
        "id": "hWMNZiwbzWuQ"
      }
    },
    {
      "cell_type": "markdown",
      "source": [
        "## Build\n",
        "\n",
        "---\n",
        "\n",
        "You can collapse this section and run all cells to set up the application and database."
      ],
      "metadata": {
        "id": "tFVXdbNuLhZr"
      }
    },
    {
      "cell_type": "markdown",
      "source": [
        "### Imports"
      ],
      "metadata": {
        "id": "Kst7vE0BSJKu"
      }
    },
    {
      "cell_type": "code",
      "source": [
        "# Import Libraries\n",
        "import pandas as pd\n",
        "import numpy as np\n",
        "import decimal\n",
        "from IPython.display import display"
      ],
      "metadata": {
        "id": "C387cK6Hj0s1"
      },
      "execution_count": 1,
      "outputs": []
    },
    {
      "cell_type": "markdown",
      "source": [
        "### Classes"
      ],
      "metadata": {
        "id": "PrTFgC3USQg9"
      }
    },
    {
      "cell_type": "markdown",
      "source": [
        "#### Application"
      ],
      "metadata": {
        "id": "PVKgocucSS1y"
      }
    },
    {
      "cell_type": "code",
      "execution_count": 2,
      "metadata": {
        "id": "77s_YAuRzVZt"
      },
      "outputs": [],
      "source": [
        "class Application():\n",
        "  def __init__(self):\n",
        "    self.db = Database()\n",
        "    self.visualizer = Visualizer()\n",
        "\n",
        "  def displayLeagueManagers(self):\n",
        "    self.visualizer.createLeagueManagersDisplay(self.db.manager_df)\n",
        "  \n",
        "  def displayLeagueManagers2(self):\n",
        "    self.visualizer.createLeagueManagersDisplay2(self.db.manager_df, self.db.manager_record_df)\n",
        "\n",
        "  def displayActiveLeagueManagers(self):\n",
        "    self.visualizer.createLeagueManagersDisplay(self.db.manager_df.loc[self.db.manager_df['active'] > 0])\n",
        "  \n",
        "  def displayActiveLeagueManagers2(self):\n",
        "    self.visualizer.createLeagueManagersDisplay2(self.db.manager_df.loc[self.db.manager_df['active'] > 0], self.db.manager_record_df)\n",
        "\n",
        "  def displayManagerRecords(self, sort_key):\n",
        "    self.visualizer.createManagerRecordDisplay(self.db.manager_df, self.db.manager_record_df, sort_key)\n",
        "\n",
        "  def displayActiveManagerRecords(self, sort_key):\n",
        "    self.visualizer.createManagerRecordDisplay(self.db.manager_df.loc[self.db.manager_df['active'] > 0], self.db.manager_record_df, sort_key)\n",
        "\n",
        "  def displayRecordsForManager(self, manager):\n",
        "    # display(self.db.manager_record_df.loc[self.db.manager_record_df['abbreviation'] == manager].style.hide_index())\n",
        "    self.visualizer.createRecordsForManagerDisplay(self.db.manager_df, self.db.manager_record_df, manager)\n",
        "\n",
        "  def displayTotalChampionshipsByManager(self):\n",
        "    self.visualizer.createTotalChampionshipsDisplay(pd.merge(self.db.manager_df, self.db.top_three_finish_df, on='abbreviation'))\n",
        "\n",
        "  def displayTopThreeFinishes(self):\n",
        "    self.visualizer.createTopThreeFinishesDisplay(self.db.manager_df, self.db.top_three_finish_df)"
      ]
    },
    {
      "cell_type": "markdown",
      "source": [
        "#### Database"
      ],
      "metadata": {
        "id": "p1Xnq345SVru"
      }
    },
    {
      "cell_type": "code",
      "source": [
        "class Database():\n",
        "  def __init__(self):\n",
        "    self.manager_df = ManagerHelper.createManagerDF()\n",
        "    self.manager_record_df = RecordHelper.createManagerRecordDF()\n",
        "    self.game_df = GameHelper.createGameDF()\n",
        "    self.top_three_finish_df = TopThreeFinishHelper().createTopThreeFinishesDF()\n",
        "    self.playoff_game_df= PlayoffHelper().createPlayoffGameDF()\n",
        "\n",
        "  def addManagers(self, managers):\n",
        "    self.manager_df = ManagerHelper.addManagers(self.manager_df, managers)\n",
        "\n",
        "  def addActiveYears(self):\n",
        "    self.manager_df = ManagerHelper.addActiveYears(self.manager_df, self.manager_record_df)\n",
        "\n",
        "  def addGamesForYearAndWeek(self, year, week, games):\n",
        "    self.game_df = GameHelper.addGamesForYearAndWeek(self.game_df, year, week, games)\n",
        "\n",
        "  def addLegacyRecordsForYear(self, year, records):\n",
        "    self.manager_record_df = RecordHelper.addLegacyRecordsForYear(self.manager_record_df, year, records)\n",
        "\n",
        "  def addPlayoffGamesForYearAndRound(self, year, game_round, playoff_games):\n",
        "    self.playoff_game_df = PlayoffHelper.addPlayoffGamesForYearAndRound(self.playoff_game_df, year, game_round, playoff_games)\n",
        "\n",
        "  def addTopThreeFinishesForYear(self, year, finishes):\n",
        "    self.top_three_finish_df = TopThreeFinishHelper.addTopThreeFinishesForYear(self.top_three_finish_df, year, finishes)\n",
        "\n",
        "  def addRecordsFromGames(self):\n",
        "    self.manager_record_df = RecordHelper.addRecordsFromGames(self.game_df, self.manager_record_df)"
      ],
      "metadata": {
        "id": "HWr7McNWSCoG"
      },
      "execution_count": 3,
      "outputs": []
    },
    {
      "cell_type": "markdown",
      "source": [
        "##### Manager Helper"
      ],
      "metadata": {
        "id": "UCjgTN7JFEtQ"
      }
    },
    {
      "cell_type": "code",
      "source": [
        "class ManagerHelper():\n",
        "  # Create Manager DataFrame\n",
        "  def createManagerDF():\n",
        "    df = pd.DataFrame()\n",
        "    df['name'] = []\n",
        "    df['abbreviation'] = []\n",
        "    df['active'] = []\n",
        "    df = df.astype({\n",
        "        'active': int })\n",
        "    return df\n",
        "\n",
        "  def addManager(name, abbreviation, active, manager_df):\n",
        "    dict = {\n",
        "        'name': name,\n",
        "        'abbreviation': abbreviation,\n",
        "        'active': active\n",
        "    }\n",
        "    manager_df = manager_df.append(dict, ignore_index = True)\n",
        "    return manager_df\n",
        "\n",
        "  def addManagers(manager_df, managers):\n",
        "    for manager in managers:\n",
        "      name = manager[0]\n",
        "      abbreviation = manager[1]\n",
        "      active = manager[2]\n",
        "      manager_df = ManagerHelper.addManager(name, abbreviation, active, manager_df)\n",
        "    return manager_df\n",
        "\n",
        "  def addActiveYears(manager_df, manager_record_df):\n",
        "    return_df = pd.DataFrame()\n",
        "    return_df['abbreviation'] = []\n",
        "    return_df['active_years'] = []\n",
        "    manager_list = manager_df['abbreviation']\n",
        "    for manager in manager_list:\n",
        "      result_df = manager_record_df.loc[manager_record_df['abbreviation'] == manager]\n",
        "      active_years = \"\"\n",
        "      for index, row in result_df.iterrows():\n",
        "        year = row['season_start_year']\n",
        "        active_years += str(year) + \", \"\n",
        "      active_years = active_years[0:-2]\n",
        "      dict = {\n",
        "          'abbreviation': manager,\n",
        "          'active_years': active_years\n",
        "      }\n",
        "      return_df = return_df.append(dict, ignore_index=True)\n",
        "    df = pd.merge(manager_df, return_df, on='abbreviation')\n",
        "    return df"
      ],
      "metadata": {
        "id": "fpx-aWypFKYj"
      },
      "execution_count": 4,
      "outputs": []
    },
    {
      "cell_type": "markdown",
      "source": [
        "##### Record Helper"
      ],
      "metadata": {
        "id": "aleugPu0FVuL"
      }
    },
    {
      "cell_type": "code",
      "source": [
        "class RecordHelper():\n",
        "  # Create League Manager Records DataFrame\n",
        "  def createManagerRecordDF():\n",
        "    df = pd.DataFrame()\n",
        "    df['abbreviation'] = []\n",
        "    df['season_start_year'] = []\n",
        "    df['wins'] = []\n",
        "    df['losses'] = []\n",
        "    df['ties'] = []\n",
        "    df['pf'] = []\n",
        "    df['pa'] = []\n",
        "    df = df.astype({\n",
        "        'season_start_year': int,\n",
        "        'wins': int,\n",
        "        'losses': int,\n",
        "        'ties': int })\n",
        "    return df\n",
        "\n",
        "  def addLegacyRecord(manager_record_df, manager, season_start_year, wins, losses):\n",
        "    dict = {\n",
        "        'abbreviation': manager,\n",
        "        'season_start_year': season_start_year,\n",
        "        'wins': wins,\n",
        "        'losses': losses,\n",
        "        'ties': 0\n",
        "    }\n",
        "    manager_record_df = manager_record_df.append(dict, ignore_index = True)\n",
        "    return manager_record_df\n",
        "\n",
        "  def addLegacyRecordWithTies(manager_record_df, manager, season_start_year, wins, losses, ties):\n",
        "    dict = {\n",
        "        'abbreviation': manager,\n",
        "        'season_start_year': season_start_year,\n",
        "        'wins': wins,\n",
        "        'losses': losses,\n",
        "        'ties': ties\n",
        "    }\n",
        "    manager_record_df = manager_record_df.append(dict, ignore_index = True)\n",
        "    return manager_record_df\n",
        "\n",
        "  def addLegacyRecordsForYear(manager_record_df, season_start_year, records):\n",
        "    for record in records:\n",
        "      manager = record[0]\n",
        "      wins = record[1]\n",
        "      losses = record[2]\n",
        "      if len(record) == 4:\n",
        "        ties = record[3]\n",
        "        manager_record_df = RecordHelper.addLegacyRecordWithTies(manager_record_df, manager, season_start_year, wins, losses, ties)\n",
        "        continue\n",
        "      manager_record_df = RecordHelper.addLegacyRecord(manager_record_df, manager, season_start_year, wins, losses)\n",
        "    return manager_record_df\n",
        "\n",
        "  def addRecordsFromGames(game_df, manager_record_df):\n",
        "    calculated_df = pd.DataFrame()\n",
        "    calculated_df['abbreviation'] = pd.Series(dtype='object')\n",
        "    calculated_df['season_start_year'] = pd.Series(dtype=int)\n",
        "    calculated_df['wins'] = pd.Series(dtype=int)\n",
        "    calculated_df['losses'] = pd.Series(dtype=int)\n",
        "    calculated_df['ties'] = pd.Series(dtype=int)\n",
        "    calculated_df['pf'] = pd.Series(dtype=float)\n",
        "    calculated_df['pa'] = pd.Series(dtype=float)\n",
        "    years_in_game_df = game_df['season_start_year'].unique()\n",
        "    for year in years_in_game_df:\n",
        "      year_game_df = game_df.loc[game_df['season_start_year'] == year]\n",
        "      manager_list1 = np.array(year_game_df['manager1'].unique())\n",
        "      manager_list2 = np.array(year_game_df['manager2'].unique())\n",
        "      manager_list = np.concatenate((manager_list1, manager_list2))\n",
        "      manager_list = np.unique(manager_list)\n",
        "      for manager in manager_list:\n",
        "        manager_games1 = year_game_df.loc[year_game_df['manager1'] == manager]\n",
        "        manager_games2 = year_game_df.loc[year_game_df['manager2'] == manager]\n",
        "        df = pd.concat([manager_games1, manager_games2])\n",
        "        wins = 0\n",
        "        losses = 0\n",
        "        ties = 0\n",
        "        pf = 0\n",
        "        pa = 0\n",
        "        for index, row in df.iterrows():\n",
        "          manager1_score = row['manager1_score']\n",
        "          manager2_score = row['manager2_score']\n",
        "          if (row['manager1'] == manager):\n",
        "            if (manager1_score > manager2_score):\n",
        "              wins += 1\n",
        "            elif (manager1_score < manager2_score):\n",
        "              losses += 1\n",
        "            else:\n",
        "              ties = RecordHelper.determine_tie(row, manager)\n",
        "            pf += manager1_score\n",
        "            pa += manager2_score\n",
        "          else:\n",
        "            if (manager2_score > manager1_score):\n",
        "              wins += 1\n",
        "            elif (manager2_score < manager1_score):\n",
        "              losses += 1\n",
        "            else:\n",
        "              ties = RecordHelper.determine_tie(row, manager)\n",
        "            pf += manager2_score\n",
        "            pa += manager1_score\n",
        "        dict = {\n",
        "            'abbreviation': manager,\n",
        "            'season_start_year': year,\n",
        "            'wins': wins,\n",
        "            'losses': losses,\n",
        "            'ties': ties,\n",
        "            'pf': pf,\n",
        "            'pa': pa\n",
        "        }\n",
        "        calculated_df = calculated_df.append(dict, ignore_index = True)\n",
        "    df = pd.concat([manager_record_df, calculated_df])\n",
        "    return df\n",
        "\n",
        "  def determine_tie(row, manager):\n",
        "    return 0"
      ],
      "metadata": {
        "id": "BIn6AI7xFY8y"
      },
      "execution_count": 5,
      "outputs": []
    },
    {
      "cell_type": "markdown",
      "source": [
        "##### Game Helper"
      ],
      "metadata": {
        "id": "CxwSb2utFLVE"
      }
    },
    {
      "cell_type": "code",
      "source": [
        "class GameHelper():\n",
        "  # Create Regular Season Games DataFrame\n",
        "  def createGameDF():\n",
        "    df = pd.DataFrame()\n",
        "    df['manager1'] = []\n",
        "    df['manager1_score'] = []\n",
        "    df['manager2'] = []\n",
        "    df['manager2_score'] = []\n",
        "    df['season_start_year'] = []\n",
        "    df['week'] = []\n",
        "    df = df.astype({\n",
        "        'season_start_year': int, \n",
        "        'week': int })\n",
        "    return df\n",
        "\n",
        "  def addGame(game_df, manager1, manager1_score, manager2, manager2_score, season_start_year, week):\n",
        "    dict = {\n",
        "        'manager1': manager1, \n",
        "        'manager1_score': manager1_score, \n",
        "        'manager2': manager2, \n",
        "        'manager2_score': manager2_score,\n",
        "        'season_start_year': season_start_year,\n",
        "        'week': week\n",
        "    }\n",
        "    game_df = game_df.append(dict, ignore_index = True)\n",
        "    return game_df\n",
        "\n",
        "  def addGamesForYearAndWeek(game_df, year, week, games):\n",
        "    for game in games:\n",
        "      manager1 = game[0]\n",
        "      manager1_score = game[1]\n",
        "      manager2 = game[2]\n",
        "      manager2_score = game[3]\n",
        "      season_start_year = year\n",
        "      week = week\n",
        "      game_df = GameHelper.addGame(game_df, manager1, manager1_score, manager2, manager2_score, season_start_year, week)\n",
        "    return game_df"
      ],
      "metadata": {
        "id": "yssk92SCFVZa"
      },
      "execution_count": 6,
      "outputs": []
    },
    {
      "cell_type": "markdown",
      "source": [
        "##### Top Three Finish Helper"
      ],
      "metadata": {
        "id": "em5NzoJqFi5R"
      }
    },
    {
      "cell_type": "code",
      "source": [
        "# TODO - make this top four\n",
        "\n",
        "class TopThreeFinishHelper():\n",
        "  # Create League Manager Top Three Finishes DataFrame\n",
        "  def createTopThreeFinishesDF(self):\n",
        "    df = pd.DataFrame()\n",
        "    df['abbreviation'] = []\n",
        "    df['season_start_year'] = []\n",
        "    df['finishing_position'] = []\n",
        "    df = df.astype({\n",
        "        'season_start_year': int,\n",
        "        'finishing_position': int })\n",
        "    return df\n",
        "\n",
        "  def addTopThreeFinish(top_three_finish_df, manager, season_start_year, finishing_position):\n",
        "    dict = {\n",
        "        'abbreviation': manager,\n",
        "        'season_start_year': season_start_year,\n",
        "        'finishing_position': finishing_position\n",
        "    }\n",
        "    top_three_finish_df = top_three_finish_df.append(dict, ignore_index=True)\n",
        "    return top_three_finish_df\n",
        "\n",
        "  def addTopThreeFinishesForYear(top_three_finish_df, season_start_year, finishes):\n",
        "    for finish in finishes:\n",
        "      manager = finish[0]\n",
        "      finishing_position = finish[1]\n",
        "      top_three_finish_df = TopThreeFinishHelper.addTopThreeFinish(top_three_finish_df, manager, season_start_year, finishing_position)\n",
        "    return top_three_finish_df"
      ],
      "metadata": {
        "id": "d-2pXcK2Flwq"
      },
      "execution_count": 7,
      "outputs": []
    },
    {
      "cell_type": "markdown",
      "source": [
        "##### Playoff Helper"
      ],
      "metadata": {
        "id": "cUR02z8IHlhn"
      }
    },
    {
      "cell_type": "code",
      "source": [
        "class  PlayoffHelper():\n",
        "  # Create Playoff Game DataFrame\n",
        "  def createPlayoffGameDF(self):\n",
        "    df = pd.DataFrame()\n",
        "    df['manager1'] = []\n",
        "    df['manager1_rank'] = []\n",
        "    df['manager1_score'] = []\n",
        "    df['manager2'] = []\n",
        "    df['manager2_rank'] = []\n",
        "    df['manager2_score'] = []\n",
        "    df['round'] = []\n",
        "    df['season_start_year'] = []\n",
        "    df = df.astype({\n",
        "        'season_start_year': int, \n",
        "        'round': int,\n",
        "        'manager1_rank': int,\n",
        "        'manager2_rank': int })\n",
        "    return df\n",
        "\n",
        "  def addPlayoffGamesForYearAndRound(playoff_game_df, year, round, playoff_games):\n",
        "    for game in playoff_games:\n",
        "      manager1 = game[0]\n",
        "      manager1_rank = game[1]\n",
        "      manager1_score = game[2]\n",
        "      manager2 = game[3]\n",
        "      manager2_rank = game[4]\n",
        "      manager2_score = game[5]\n",
        "      playoff_game_df = PlayoffHelper.addPlayoffGame(playoff_game_df, manager1, manager1_rank, manager1_score, manager2, manager2_rank, manager2_score, round, year)\n",
        "    return playoff_game_df\n",
        "\n",
        "  def addPlayoffGame(playoff_game_df, manager1, manager1_rank, manager1_score, manager2, manager2_rank, manager2_score, round, year):\n",
        "    dict = {\n",
        "        'manager1': manager1, \n",
        "        'manager1_rank': manager1_rank,\n",
        "        'manager1_score': manager1_score, \n",
        "        'manager2': manager2, \n",
        "        'manager2_rank': manager2_rank,\n",
        "        'manager2_score': manager2_score,\n",
        "        'round': round,\n",
        "        'season_start_year': year\n",
        "    }\n",
        "    playoff_game_df = playoff_game_df.append(dict, ignore_index = True)\n",
        "    return playoff_game_df"
      ],
      "metadata": {
        "id": "UoCQQXY4Hqam"
      },
      "execution_count": 8,
      "outputs": []
    },
    {
      "cell_type": "markdown",
      "source": [
        "##### Sorting Helper"
      ],
      "metadata": {
        "id": "C4uBhrPhSM_s"
      }
    },
    {
      "cell_type": "code",
      "source": [
        "class sort_by():\n",
        "  # Define Sort Keys\n",
        "  name = 'name'\n",
        "  wins = 'wins'\n",
        "  losses = 'losses'\n",
        "  ties = 'ties'\n",
        "  win_pct = 'win_pct'"
      ],
      "metadata": {
        "id": "KBVDfD-OpxYo"
      },
      "execution_count": 9,
      "outputs": []
    },
    {
      "cell_type": "markdown",
      "source": [
        "#### Visualizer"
      ],
      "metadata": {
        "id": "HeEyxDVB0FYs"
      }
    },
    {
      "cell_type": "code",
      "source": [
        "class Visualizer():\n",
        "  def __init__(self):\n",
        "    pd.set_option('max_colwidth', None)\n",
        "    pd.set_option('colheader_justify', 'center')\n",
        "\n",
        "  def createLeagueManagersDisplay(self, df):\n",
        "    df = df.sort_values(by=['name'])\n",
        "    df = df[['name', 'active_years']]\n",
        "    df = df.rename(columns={\n",
        "        'name':'Name', \n",
        "        'active_years': 'Active Years' })\n",
        "    df = df.style.hide_index()\n",
        "    display(df)\n",
        "\n",
        "  def createLeagueManagersDisplay2(self, manager_df, manager_record_df):\n",
        "    # select name and active years column sorted by name\n",
        "    manager_df = manager_df[['name', 'active_years']]\n",
        "    manager_df = manager_df.sort_values(by=['name'])\n",
        "\n",
        "    # create empty display df and dict with name and years\n",
        "    display_df = pd.DataFrame()\n",
        "    display_df['name'] = []\n",
        "    dict = {'name':''}\n",
        "    years = manager_record_df['season_start_year'].unique()\n",
        "    for year in years:\n",
        "      display_df[year] = []\n",
        "      dict[year] = ''\n",
        "\n",
        "    # add green bar for active years\n",
        "    managers_list = manager_df['name']\n",
        "    for manager in managers_list:\n",
        "      dict = {}\n",
        "      dict['name'] = manager\n",
        "      manager_active_years = manager_df.loc[manager_df['name'] == manager]['active_years']\n",
        "      for year in years:\n",
        "        if str(year) in str(manager_active_years):\n",
        "          dict[year] = \"🟩🟩🟩\"\n",
        "        else:\n",
        "          dict[year] = \"\"\n",
        "      display_df = display_df.append(dict, ignore_index=True)\n",
        "\n",
        "    # clean up and display\n",
        "    display_df = display_df.rename(columns={'name':'Name'})\n",
        "    display_df = display_df.style.hide_index()\n",
        "    display(display_df)\n",
        "\n",
        "  def createManagerRecordDisplay(self, manager_df, manager_record_df, sort_key):\n",
        "    # join manager_df and manager_record_df\n",
        "    df = pd.merge(manager_df, manager_record_df, on='abbreviation')\n",
        "    # get total wins, losses, and ties\n",
        "    df = df.groupby('name', as_index=False).sum()\n",
        "    # select name, wins, losses, and ties\n",
        "    df = df[['name', 'wins', 'losses', 'ties']]\n",
        "\n",
        "    # calculate win percentsge\n",
        "    df['win_pct'] = pd.Series(dtype='int')\n",
        "    for index, row in df.iterrows():\n",
        "      wins = row['wins']\n",
        "      losses = row ['losses']\n",
        "      ties = row['ties']\n",
        "      total_games = wins + losses + ties\n",
        "      win_percent = wins / total_games\n",
        "      c = decimal.Decimal(win_percent * 100)\n",
        "      df.at[index, 'win_pct'] = float(round(c, 3))\n",
        "\n",
        "    # sort by sort_key\n",
        "    df = df.sort_values(by=[sort_key], ascending=False)\n",
        "\n",
        "    # clean up and display\n",
        "    df = df.rename(columns={\n",
        "        'name':'Name', \n",
        "        'wins': 'Wins',\n",
        "        'losses': 'Losses',\n",
        "        'ties': 'Ties',\n",
        "        'win_pct': 'Win Pct' })\n",
        "    df = df.style\n",
        "    df = df.format(precision=3)\n",
        "    df = df.hide_index()\n",
        "    display(df)\n",
        "\n",
        "  def createTotalChampionshipsDisplay(self, df):\n",
        "    df = df.loc[df['finishing_position'] == 1]\n",
        "    df = df.groupby('name', as_index=False).sum()\n",
        "    df = df.sort_values(by=['finishing_position'], ascending=False)\n",
        "    df = df[['name', 'finishing_position']]\n",
        "    df = df.rename(columns={'name':'Name','finishing_position': 'Championships'})\n",
        "    df = df.style.hide_index()\n",
        "    display(df)\n",
        "\n",
        "  def createTopThreeFinishesDisplay(self, manager_df, top_three_finish_df):\n",
        "    df = pd.merge(manager_df, top_three_finish_df, on='abbreviation')\n",
        "    df2 = df[['name', 'season_start_year', 'finishing_position']]\n",
        "    display_df = pd.DataFrame()\n",
        "    display_df['name'] = []\n",
        "    years_in_top_3_finishes = top_three_finish_df['season_start_year'].unique()\n",
        "    dict = {'name':''}\n",
        "    for year in years_in_top_3_finishes:\n",
        "      display_df[year] = []\n",
        "      dict[year] = ''\n",
        "    dict['total'] = []\n",
        "    managers_list = df2['name'].unique()\n",
        "    for manager in managers_list:\n",
        "      dict = {}\n",
        "      dict['name'] = manager\n",
        "      top_three_finishes = df2.loc[df2['name'] == manager][['season_start_year', 'finishing_position']]\n",
        "      total_top_three = 0\n",
        "      for year in years_in_top_3_finishes:\n",
        "        if (top_three_finishes['season_start_year'].eq(year)).any():\n",
        "          finishing_position = df[(df['season_start_year'] == year) & (df['name'] == manager)]\n",
        "          finishing_position = finishing_position['finishing_position'].item()\n",
        "          if (finishing_position == 3):\n",
        "            dict[year] = \"🥉\"\n",
        "          elif (finishing_position == 2):\n",
        "            dict[year] = \"🥈\"\n",
        "          else:\n",
        "            dict[year] = \"🥇\"\n",
        "          total_top_three += 1\n",
        "        else:\n",
        "          dict[year] = \"\"\n",
        "        dict['total'] = total_top_three\n",
        "      display_df = display_df.append(dict, ignore_index=True)\n",
        "    display_df = display_df.astype({'total': int})\n",
        "    display_df = display_df.sort_values(by=['total'], ascending=False)\n",
        "    display_df = display_df.rename(columns={'name':'Name','total': 'Total'})\n",
        "    display_df = display_df.style.hide_index()\n",
        "    pd.set_option('colheader_justify', 'left')\n",
        "    display(display_df)\n",
        "\n",
        "  def createRecordsForManagerDisplay(self, manager_df, manager_record_df, manager):\n",
        "    df = pd.merge(manager_df, manager_record_df, on='abbreviation')\n",
        "    df = df.loc[df['name'] == manager]\n",
        "    df = df[['name', 'season_start_year',\t'wins',\t'losses',\t'ties',\t'pf',\t'pa']]\n",
        "    df = df.fillna(\"-\")\n",
        "    df = df.rename(columns={\n",
        "        'name':'Name',\n",
        "        'season_start_year': 'Year',\n",
        "        'wins': \"Wins\",\n",
        "        'losses': 'Losses',\n",
        "        'ties': 'Ties',\n",
        "        'pf': 'PF',\n",
        "        'pa': 'PA' })\n",
        "    df = df.sort_values(by=['Year'])\n",
        "    df = df.style\n",
        "    df = df.set_properties(**{'text-align': 'center'})\n",
        "    df = df.format(precision=2)\n",
        "    df = df.hide_index()\n",
        "    df.set_table_styles([dict(selector='th', props=[('text-align', 'center')])])\n",
        "    display(df)"
      ],
      "metadata": {
        "id": "d6orH5Ig0KIv"
      },
      "execution_count": 10,
      "outputs": []
    },
    {
      "cell_type": "markdown",
      "source": [
        "## Create\n",
        "\n",
        "---\n",
        "\n",
        "You can collapse this section and run all cells to create the application and add data to the database."
      ],
      "metadata": {
        "id": "w4wanwbKtoMd"
      }
    },
    {
      "cell_type": "markdown",
      "source": [
        "### Initialize"
      ],
      "metadata": {
        "id": "UM-iDOqZSnr3"
      }
    },
    {
      "cell_type": "code",
      "source": [
        "# Initilaize Application\n",
        "app = Application()"
      ],
      "metadata": {
        "id": "zS-oWnsPLHsB"
      },
      "execution_count": 17,
      "outputs": []
    },
    {
      "cell_type": "markdown",
      "source": [
        "### Add Managers"
      ],
      "metadata": {
        "id": "hdJpE1HlSsHO"
      }
    },
    {
      "cell_type": "code",
      "source": [
        "# Add Managers\n",
        "\n",
        "# Reset Managers DataFrame\n",
        "app.db.manager_df = ManagerHelper.createManagerDF()\n",
        "\n",
        "# Create Mananger Abbreviations\n",
        "MGR1 = '0001'\n",
        "MGR2 = '0002'\n",
        "# ...\n",
        "# ...\n",
        "# ...\n",
        "MGRM = '000M'\n",
        "MGRN = '000N'\n",
        "\n",
        "# Add Manager Name, Abbreviation, and Active Status to DB\n",
        "app.db.addManagers([\n",
        "    ['Manager 1 Name', MGR1, 1],\n",
        "    ['Manager 2 Name', MGR2, 1],\n",
        "    # ...\n",
        "    # ...\n",
        "    # ...\n",
        "    ['Manager N-1 Name', MGRM, 1],\n",
        "    ['Manager N Name', MGRN, 1]\n",
        "])"
      ],
      "metadata": {
        "id": "r-ZBosS8tqE1"
      },
      "execution_count": 18,
      "outputs": []
    },
    {
      "cell_type": "markdown",
      "source": [
        "### Add Records"
      ],
      "metadata": {
        "id": "qpKq-dIJSxs5"
      }
    },
    {
      "cell_type": "code",
      "source": [
        "# Add Legacy Records\n",
        "\n",
        "# Reset Records DB\n",
        "app.db.manager_record_df = RecordHelper.createManagerRecordDF()\n",
        "\n",
        "# Add Legacy Records (2020)\n",
        "app.db.addLegacyRecordsForYear(2020, [\n",
        "    [MGR1, 7, 6],\n",
        "    [MGR2, 9, 4],\n",
        "    # ...\n",
        "    # ...\n",
        "    # ...\n",
        "    [MGRM, 7, 6],\n",
        "    [MGRN, 10, 3]\n",
        "])\n",
        "\n",
        "# Add Legacy Records (2021)\n",
        "app.db.addLegacyRecordsForYear(2021, [\n",
        "    [MGR1, 11, 3],\n",
        "    [MGR2, 10, 4],\n",
        "    # ...\n",
        "    # ...\n",
        "    # ...\n",
        "    [MGRM, 6, 8],\n",
        "    [MGRN, 7, 7]\n",
        "])"
      ],
      "metadata": {
        "id": "tTY3dP-TwSgd"
      },
      "execution_count": 19,
      "outputs": []
    },
    {
      "cell_type": "markdown",
      "source": [
        "### Add Games"
      ],
      "metadata": {
        "id": "c5XwJFVATEcF"
      }
    },
    {
      "cell_type": "code",
      "source": [
        "# Reset Games DF\n",
        "app.db.game_df = GameHelper.createGameDF()"
      ],
      "metadata": {
        "id": "M-PnSJ4yhv9h"
      },
      "execution_count": 20,
      "outputs": []
    },
    {
      "cell_type": "markdown",
      "source": [
        "#### 2022"
      ],
      "metadata": {
        "id": "58o-j5FchfC9"
      }
    },
    {
      "cell_type": "code",
      "source": [
        "# Add Regular Season Games for a Year\n",
        "\n",
        "# Week 1\n",
        "app.db.addGamesForYearAndWeek(2022, 1, [\n",
        "    [MGR1, 77.25, MGR2, 129.9],\n",
        "    # ...\n",
        "    [MGRM, 120.65, MGRN, 115.35]\n",
        "])\n",
        "\n",
        "# Week 2\n",
        "app.db.addGamesForYearAndWeek(2022, 2, [\n",
        "    [MGR1, 116.9, MGR2, 140.8],\n",
        "    # ...\n",
        "    [MGRM, 114.85, MGRN, 128.75]\n",
        "])\n",
        "\n",
        "# Week 3\n",
        "app.db.addGamesForYearAndWeek(2022, 3, [\n",
        "    [MGR1, 111.3, MGR2, 76.5],\n",
        "    # ...\n",
        "    [MGRM, 131.9, MGRN, 76.35]\n",
        "])\n",
        "\n",
        "# Week 4\n",
        "app.db.addGamesForYearAndWeek(2022, 4, [\n",
        "    [MGR1, 134.55, MGR2, 124.15],\n",
        "    # ...\n",
        "    [MGRM, 101.55, MGRN, 121.15]\n",
        "])\n",
        "\n",
        "# Week 5\n",
        "app.db.addGamesForYearAndWeek(2022, 5, [\n",
        "    [MGR1, 104.4, MGR2, 130.2],\n",
        "    # ...\n",
        "    [MGRM, 144.4, MGRN, 102.15]\n",
        "])\n",
        "\n",
        "# Week 6\n",
        "app.db.addGamesForYearAndWeek(2022, 6, [\n",
        "    [MGR1, 96.65, MGR2, 84.15],\n",
        "    # ...\n",
        "    [MGRM, 122.0, MGRN, 89.8]\n",
        "])\n",
        "\n",
        "# Week 7\n",
        "app.db.addGamesForYearAndWeek(2022, 7, [\n",
        "    [MGR1, 105.9, MGR2, 88.95],\n",
        "    # ...\n",
        "    [MGRM, 90.0, MGRN, 57.6]\n",
        "])\n",
        "\n",
        "# Week 8\n",
        "app.db.addGamesForYearAndWeek(2022, 8, [\n",
        "    [MGR1, 98.05, MGR2, 125.7],\n",
        "    # ...\n",
        "    [MGRM, 137.9, MGRN, 156.4]\n",
        "])\n",
        "\n",
        "# Week 9\n",
        "app.db.addGamesForYearAndWeek(2022, 9, [\n",
        "    [MGR1, 111.05, MGR2, 92.45],\n",
        "    # ...\n",
        "    [MGRM, 104.9, MGRN, 110.05]\n",
        "])\n",
        "\n",
        "# Week 10\n",
        "app.db.addGamesForYearAndWeek(2022, 10, [\n",
        "    [MGR1, 96.15, MGR2, 115.95],\n",
        "    # ...\n",
        "    [MGRM, 147.65, MGRN, 119.7]\n",
        "])\n",
        "\n",
        "# Week 11\n",
        "app.db.addGamesForYearAndWeek(2022, 11, [\n",
        "    [MGR1, 110.6, MGR2, 115.65],\n",
        "    # ...\n",
        "    [MGRM, 89.95, MGRN, 95.55]\n",
        "])\n",
        "\n",
        "# Week 12\n",
        "app.db.addGamesForYearAndWeek(2022, 12, [\n",
        "    [MGR1, 122.1, MGR2, 82.0],\n",
        "    # ...\n",
        "    [MGRM, 102.2, MGRN, 120.05]\n",
        "])\n",
        "\n",
        "# Week 13\n",
        "app.db.addGamesForYearAndWeek(2022, 13, [\n",
        "    [MGR1, 122.85, MGR2, 98.25],\n",
        "    # ...\n",
        "    [MGRM, 78.25, MGRN, 127.1]\n",
        "])\n",
        "\n",
        "# Week 14\n",
        "app.db.addGamesForYearAndWeek(2022, 14, [\n",
        "    [MGR1, 146.15, MGR2, 89.05],\n",
        "    # ...\n",
        "    [MGRM, 149.7, MGRN, 55.65]\n",
        "])"
      ],
      "metadata": {
        "id": "RQsa9Jxhwfrz"
      },
      "execution_count": 21,
      "outputs": []
    },
    {
      "cell_type": "code",
      "source": [
        "# Add Playoff Games for ____\n",
        "\n",
        "# Round 1\n",
        "app.db.addPlayoffGamesForYearAndRound(2022, 1, [\n",
        "    [MGR1, 1, 129.4, MGR2, 4, 155.6],\n",
        "    # ...\n",
        "    [MGRM, 3, 75.7, MGRN, 2, 113.3]\n",
        "])\n",
        "\n",
        "# Round 2\n",
        "app.db.addPlayoffGamesForYearAndRound(2022, 2, [\n",
        "    [MGR2, 4, 79.75, MGRN, 2, 148.75]\n",
        "])\n",
        "\n",
        "# Round 3\n",
        "app.db.addPlayoffGamesForYearAndRound(2022, 3, [\n",
        "    # ...\n",
        "])"
      ],
      "metadata": {
        "id": "gIo-ZDl9tqIc"
      },
      "execution_count": 22,
      "outputs": []
    },
    {
      "cell_type": "code",
      "source": [
        "app.db.addRecordsFromGames()"
      ],
      "metadata": {
        "id": "83ykiR_-5toT"
      },
      "execution_count": 23,
      "outputs": []
    },
    {
      "cell_type": "markdown",
      "source": [
        "### Add Active Years"
      ],
      "metadata": {
        "id": "nnABdQ60CKDc"
      }
    },
    {
      "cell_type": "code",
      "source": [
        "app.db.addActiveYears()"
      ],
      "metadata": {
        "id": "3jRZ_D81CNv5"
      },
      "execution_count": 24,
      "outputs": []
    },
    {
      "cell_type": "markdown",
      "source": [
        "### Add Top Three Finishes"
      ],
      "metadata": {
        "id": "sbQfg2jNdYnB"
      }
    },
    {
      "cell_type": "code",
      "source": [
        "app.db.top_three_finish_df = TopThreeFinishHelper().createTopThreeFinishesDF()\n",
        "\n",
        "app.db.addTopThreeFinishesForYear(2020, [\n",
        "    [MGR1, 1],\n",
        "    [MGR2, 2],\n",
        "    [MGRM, 3]\n",
        "])\n",
        "\n",
        "app.db.addTopThreeFinishesForYear(2021, [\n",
        "    [MGR2, 1],\n",
        "    [MGRM, 2],\n",
        "    [MGRN, 3]\n",
        "])\n",
        "\n",
        "app.db.addTopThreeFinishesForYear(2022, [\n",
        "    [MGRM, 1],\n",
        "    [MGRN, 2],\n",
        "    [MGR1, 3]\n",
        "])"
      ],
      "metadata": {
        "id": "TeT3ytEHdbuY"
      },
      "execution_count": 25,
      "outputs": []
    },
    {
      "cell_type": "markdown",
      "source": [
        "## Run\n",
        "\n",
        "---\n",
        "\n",
        "Each of the following sections will display some table, chart, or graph to visualize NJFL data. Please see the descriptions for each section and run individual cells to see the output."
      ],
      "metadata": {
        "id": "RmjskyYPMGRq"
      }
    },
    {
      "cell_type": "markdown",
      "source": [
        "### League Managers (2011 - 2022)\n",
        "\n",
        "Shows a table with all the managers who have participated in the NJFL since it's inception."
      ],
      "metadata": {
        "id": "8j-SZ3W3OhmN"
      }
    },
    {
      "cell_type": "code",
      "source": [
        "app.displayLeagueManagers2()"
      ],
      "metadata": {
        "colab": {
          "base_uri": "https://localhost:8080/",
          "height": 175
        },
        "id": "vfaKyL8M4sLK",
        "outputId": "dfe62bfa-17f5-4c12-8011-cec705473965"
      },
      "execution_count": 26,
      "outputs": [
        {
          "output_type": "display_data",
          "data": {
            "text/plain": [
              "<pandas.io.formats.style.Styler at 0x7fda45712d90>"
            ],
            "text/html": [
              "<style type=\"text/css\">\n",
              "</style>\n",
              "<table id=\"T_a27f2_\" class=\"dataframe\">\n",
              "  <thead>\n",
              "    <tr>\n",
              "      <th class=\"col_heading level0 col0\" >Name</th>\n",
              "      <th class=\"col_heading level0 col1\" >2020</th>\n",
              "      <th class=\"col_heading level0 col2\" >2021</th>\n",
              "      <th class=\"col_heading level0 col3\" >2022</th>\n",
              "    </tr>\n",
              "  </thead>\n",
              "  <tbody>\n",
              "    <tr>\n",
              "      <td id=\"T_a27f2_row0_col0\" class=\"data row0 col0\" >Manager 1 Name</td>\n",
              "      <td id=\"T_a27f2_row0_col1\" class=\"data row0 col1\" >🟩🟩🟩</td>\n",
              "      <td id=\"T_a27f2_row0_col2\" class=\"data row0 col2\" >🟩🟩🟩</td>\n",
              "      <td id=\"T_a27f2_row0_col3\" class=\"data row0 col3\" >🟩🟩🟩</td>\n",
              "    </tr>\n",
              "    <tr>\n",
              "      <td id=\"T_a27f2_row1_col0\" class=\"data row1 col0\" >Manager 2 Name</td>\n",
              "      <td id=\"T_a27f2_row1_col1\" class=\"data row1 col1\" >🟩🟩🟩</td>\n",
              "      <td id=\"T_a27f2_row1_col2\" class=\"data row1 col2\" >🟩🟩🟩</td>\n",
              "      <td id=\"T_a27f2_row1_col3\" class=\"data row1 col3\" >🟩🟩🟩</td>\n",
              "    </tr>\n",
              "    <tr>\n",
              "      <td id=\"T_a27f2_row2_col0\" class=\"data row2 col0\" >Manager N Name</td>\n",
              "      <td id=\"T_a27f2_row2_col1\" class=\"data row2 col1\" >🟩🟩🟩</td>\n",
              "      <td id=\"T_a27f2_row2_col2\" class=\"data row2 col2\" >🟩🟩🟩</td>\n",
              "      <td id=\"T_a27f2_row2_col3\" class=\"data row2 col3\" >🟩🟩🟩</td>\n",
              "    </tr>\n",
              "    <tr>\n",
              "      <td id=\"T_a27f2_row3_col0\" class=\"data row3 col0\" >Manager N-1 Name</td>\n",
              "      <td id=\"T_a27f2_row3_col1\" class=\"data row3 col1\" >🟩🟩🟩</td>\n",
              "      <td id=\"T_a27f2_row3_col2\" class=\"data row3 col2\" >🟩🟩🟩</td>\n",
              "      <td id=\"T_a27f2_row3_col3\" class=\"data row3 col3\" >🟩🟩🟩</td>\n",
              "    </tr>\n",
              "  </tbody>\n",
              "</table>\n"
            ]
          },
          "metadata": {}
        }
      ]
    },
    {
      "cell_type": "markdown",
      "source": [
        "### Manager Records (2011 - 2022)\n",
        "\n",
        "Shows a table of all league managers records since the inception of the NJFL. Sort values using one of the following values:\n",
        "- `sort_by.name`, `sort_by.wins`, `sort_by.losses`, `sort_by.ties`, `sort_by.win_pct`"
      ],
      "metadata": {
        "id": "5dL8zzpbYKOO"
      }
    },
    {
      "cell_type": "code",
      "source": [
        "app.displayManagerRecords(sort_by.win_pct)"
      ],
      "metadata": {
        "colab": {
          "base_uri": "https://localhost:8080/",
          "height": 175
        },
        "id": "bCvuuT2IISuB",
        "outputId": "b5e12a4f-5cd8-4c2c-a438-20354a1d234d"
      },
      "execution_count": 27,
      "outputs": [
        {
          "output_type": "display_data",
          "data": {
            "text/plain": [
              "<pandas.io.formats.style.Styler at 0x7fda446acdf0>"
            ],
            "text/html": [
              "<style type=\"text/css\">\n",
              "</style>\n",
              "<table id=\"T_bdca5_\" class=\"dataframe\">\n",
              "  <thead>\n",
              "    <tr>\n",
              "      <th class=\"col_heading level0 col0\" >Name</th>\n",
              "      <th class=\"col_heading level0 col1\" >Wins</th>\n",
              "      <th class=\"col_heading level0 col2\" >Losses</th>\n",
              "      <th class=\"col_heading level0 col3\" >Ties</th>\n",
              "      <th class=\"col_heading level0 col4\" >Win Pct</th>\n",
              "    </tr>\n",
              "  </thead>\n",
              "  <tbody>\n",
              "    <tr>\n",
              "      <td id=\"T_bdca5_row0_col0\" class=\"data row0 col0\" >Manager 1 Name</td>\n",
              "      <td id=\"T_bdca5_row0_col1\" class=\"data row0 col1\" >26</td>\n",
              "      <td id=\"T_bdca5_row0_col2\" class=\"data row0 col2\" >15</td>\n",
              "      <td id=\"T_bdca5_row0_col3\" class=\"data row0 col3\" >0</td>\n",
              "      <td id=\"T_bdca5_row0_col4\" class=\"data row0 col4\" >63.415</td>\n",
              "    </tr>\n",
              "    <tr>\n",
              "      <td id=\"T_bdca5_row1_col0\" class=\"data row1 col0\" >Manager 2 Name</td>\n",
              "      <td id=\"T_bdca5_row1_col1\" class=\"data row1 col1\" >25</td>\n",
              "      <td id=\"T_bdca5_row1_col2\" class=\"data row1 col2\" >16</td>\n",
              "      <td id=\"T_bdca5_row1_col3\" class=\"data row1 col3\" >0</td>\n",
              "      <td id=\"T_bdca5_row1_col4\" class=\"data row1 col4\" >60.976</td>\n",
              "    </tr>\n",
              "    <tr>\n",
              "      <td id=\"T_bdca5_row2_col0\" class=\"data row2 col0\" >Manager N Name</td>\n",
              "      <td id=\"T_bdca5_row2_col1\" class=\"data row2 col1\" >24</td>\n",
              "      <td id=\"T_bdca5_row2_col2\" class=\"data row2 col2\" >17</td>\n",
              "      <td id=\"T_bdca5_row2_col3\" class=\"data row2 col3\" >0</td>\n",
              "      <td id=\"T_bdca5_row2_col4\" class=\"data row2 col4\" >58.537</td>\n",
              "    </tr>\n",
              "    <tr>\n",
              "      <td id=\"T_bdca5_row3_col0\" class=\"data row3 col0\" >Manager N-1 Name</td>\n",
              "      <td id=\"T_bdca5_row3_col1\" class=\"data row3 col1\" >20</td>\n",
              "      <td id=\"T_bdca5_row3_col2\" class=\"data row3 col2\" >21</td>\n",
              "      <td id=\"T_bdca5_row3_col3\" class=\"data row3 col3\" >0</td>\n",
              "      <td id=\"T_bdca5_row3_col4\" class=\"data row3 col4\" >48.780</td>\n",
              "    </tr>\n",
              "  </tbody>\n",
              "</table>\n"
            ]
          },
          "metadata": {}
        }
      ]
    },
    {
      "cell_type": "markdown",
      "source": [
        "### Manager Record by Year (2011-2022)\n",
        "\n",
        "Shows a table of a single managers records for every year they participated in the NJFL.\n",
        "\n",
        "Use manager name from records table above."
      ],
      "metadata": {
        "id": "78yka3SuUhgJ"
      }
    },
    {
      "cell_type": "code",
      "source": [
        "manager = \"Manager 1 Name\"\n",
        "\n",
        "app.displayRecordsForManager(manager)"
      ],
      "metadata": {
        "colab": {
          "base_uri": "https://localhost:8080/",
          "height": 143
        },
        "id": "qjx2lrHKUotm",
        "outputId": "631f9d2a-f2dc-47ca-c88c-3159e2251c2f"
      },
      "execution_count": 28,
      "outputs": [
        {
          "output_type": "display_data",
          "data": {
            "text/plain": [
              "<pandas.io.formats.style.Styler at 0x7fda39fbb820>"
            ],
            "text/html": [
              "<style type=\"text/css\">\n",
              "#T_001ea_ th {\n",
              "  text-align: center;\n",
              "}\n",
              "#T_001ea_row0_col0, #T_001ea_row0_col1, #T_001ea_row0_col2, #T_001ea_row0_col3, #T_001ea_row0_col4, #T_001ea_row0_col5, #T_001ea_row0_col6, #T_001ea_row1_col0, #T_001ea_row1_col1, #T_001ea_row1_col2, #T_001ea_row1_col3, #T_001ea_row1_col4, #T_001ea_row1_col5, #T_001ea_row1_col6, #T_001ea_row2_col0, #T_001ea_row2_col1, #T_001ea_row2_col2, #T_001ea_row2_col3, #T_001ea_row2_col4, #T_001ea_row2_col5, #T_001ea_row2_col6 {\n",
              "  text-align: center;\n",
              "}\n",
              "</style>\n",
              "<table id=\"T_001ea_\" class=\"dataframe\">\n",
              "  <thead>\n",
              "    <tr>\n",
              "      <th class=\"col_heading level0 col0\" >Name</th>\n",
              "      <th class=\"col_heading level0 col1\" >Year</th>\n",
              "      <th class=\"col_heading level0 col2\" >Wins</th>\n",
              "      <th class=\"col_heading level0 col3\" >Losses</th>\n",
              "      <th class=\"col_heading level0 col4\" >Ties</th>\n",
              "      <th class=\"col_heading level0 col5\" >PF</th>\n",
              "      <th class=\"col_heading level0 col6\" >PA</th>\n",
              "    </tr>\n",
              "  </thead>\n",
              "  <tbody>\n",
              "    <tr>\n",
              "      <td id=\"T_001ea_row0_col0\" class=\"data row0 col0\" >Manager 1 Name</td>\n",
              "      <td id=\"T_001ea_row0_col1\" class=\"data row0 col1\" >2020</td>\n",
              "      <td id=\"T_001ea_row0_col2\" class=\"data row0 col2\" >7</td>\n",
              "      <td id=\"T_001ea_row0_col3\" class=\"data row0 col3\" >6</td>\n",
              "      <td id=\"T_001ea_row0_col4\" class=\"data row0 col4\" >0</td>\n",
              "      <td id=\"T_001ea_row0_col5\" class=\"data row0 col5\" >-</td>\n",
              "      <td id=\"T_001ea_row0_col6\" class=\"data row0 col6\" >-</td>\n",
              "    </tr>\n",
              "    <tr>\n",
              "      <td id=\"T_001ea_row1_col0\" class=\"data row1 col0\" >Manager 1 Name</td>\n",
              "      <td id=\"T_001ea_row1_col1\" class=\"data row1 col1\" >2021</td>\n",
              "      <td id=\"T_001ea_row1_col2\" class=\"data row1 col2\" >11</td>\n",
              "      <td id=\"T_001ea_row1_col3\" class=\"data row1 col3\" >3</td>\n",
              "      <td id=\"T_001ea_row1_col4\" class=\"data row1 col4\" >0</td>\n",
              "      <td id=\"T_001ea_row1_col5\" class=\"data row1 col5\" >-</td>\n",
              "      <td id=\"T_001ea_row1_col6\" class=\"data row1 col6\" >-</td>\n",
              "    </tr>\n",
              "    <tr>\n",
              "      <td id=\"T_001ea_row2_col0\" class=\"data row2 col0\" >Manager 1 Name</td>\n",
              "      <td id=\"T_001ea_row2_col1\" class=\"data row2 col1\" >2022</td>\n",
              "      <td id=\"T_001ea_row2_col2\" class=\"data row2 col2\" >8</td>\n",
              "      <td id=\"T_001ea_row2_col3\" class=\"data row2 col3\" >6</td>\n",
              "      <td id=\"T_001ea_row2_col4\" class=\"data row2 col4\" >0</td>\n",
              "      <td id=\"T_001ea_row2_col5\" class=\"data row2 col5\" >1553.90</td>\n",
              "      <td id=\"T_001ea_row2_col6\" class=\"data row2 col6\" >1493.70</td>\n",
              "    </tr>\n",
              "  </tbody>\n",
              "</table>\n"
            ]
          },
          "metadata": {}
        }
      ]
    },
    {
      "cell_type": "markdown",
      "source": [
        "### Total Championships (2011-2021)\n",
        "\n",
        "Shows a table of total championships for league managers since the inception of the NJFL."
      ],
      "metadata": {
        "id": "Acdb0YMqU2Qh"
      }
    },
    {
      "cell_type": "code",
      "source": [
        "app.displayTotalChampionshipsByManager()"
      ],
      "metadata": {
        "colab": {
          "base_uri": "https://localhost:8080/",
          "height": 143
        },
        "id": "dfpuFc0jU46z",
        "outputId": "df7ddbb7-e091-4fa5-ce26-f694e47a4798"
      },
      "execution_count": 29,
      "outputs": [
        {
          "output_type": "display_data",
          "data": {
            "text/plain": [
              "<pandas.io.formats.style.Styler at 0x7fda446acfa0>"
            ],
            "text/html": [
              "<style type=\"text/css\">\n",
              "</style>\n",
              "<table id=\"T_fc964_\" class=\"dataframe\">\n",
              "  <thead>\n",
              "    <tr>\n",
              "      <th class=\"col_heading level0 col0\" >Name</th>\n",
              "      <th class=\"col_heading level0 col1\" >Championships</th>\n",
              "    </tr>\n",
              "  </thead>\n",
              "  <tbody>\n",
              "    <tr>\n",
              "      <td id=\"T_fc964_row0_col0\" class=\"data row0 col0\" >Manager 1 Name</td>\n",
              "      <td id=\"T_fc964_row0_col1\" class=\"data row0 col1\" >1</td>\n",
              "    </tr>\n",
              "    <tr>\n",
              "      <td id=\"T_fc964_row1_col0\" class=\"data row1 col0\" >Manager 2 Name</td>\n",
              "      <td id=\"T_fc964_row1_col1\" class=\"data row1 col1\" >1</td>\n",
              "    </tr>\n",
              "    <tr>\n",
              "      <td id=\"T_fc964_row2_col0\" class=\"data row2 col0\" >Manager N-1 Name</td>\n",
              "      <td id=\"T_fc964_row2_col1\" class=\"data row2 col1\" >1</td>\n",
              "    </tr>\n",
              "  </tbody>\n",
              "</table>\n"
            ]
          },
          "metadata": {}
        }
      ]
    },
    {
      "cell_type": "markdown",
      "source": [
        "### Top Three Finishes (2011-2021)\n",
        "\n",
        "Shows a table of top three finishes for league managers since the inception of the NJFL."
      ],
      "metadata": {
        "id": "VNaPW6pXU5Lh"
      }
    },
    {
      "cell_type": "code",
      "source": [
        "app.displayTopThreeFinishes()"
      ],
      "metadata": {
        "id": "KhfjG5nFVWCw",
        "colab": {
          "base_uri": "https://localhost:8080/",
          "height": 175
        },
        "outputId": "800f77ef-5557-421e-a402-e1ddfbed4662"
      },
      "execution_count": 30,
      "outputs": [
        {
          "output_type": "display_data",
          "data": {
            "text/plain": [
              "<pandas.io.formats.style.Styler at 0x7fda3a355bb0>"
            ],
            "text/html": [
              "<style type=\"text/css\">\n",
              "</style>\n",
              "<table id=\"T_99b5d_\" class=\"dataframe\">\n",
              "  <thead>\n",
              "    <tr>\n",
              "      <th class=\"col_heading level0 col0\" >Name</th>\n",
              "      <th class=\"col_heading level0 col1\" >2020</th>\n",
              "      <th class=\"col_heading level0 col2\" >2021</th>\n",
              "      <th class=\"col_heading level0 col3\" >2022</th>\n",
              "      <th class=\"col_heading level0 col4\" >Total</th>\n",
              "    </tr>\n",
              "  </thead>\n",
              "  <tbody>\n",
              "    <tr>\n",
              "      <td id=\"T_99b5d_row0_col0\" class=\"data row0 col0\" >Manager N-1 Name</td>\n",
              "      <td id=\"T_99b5d_row0_col1\" class=\"data row0 col1\" >🥉</td>\n",
              "      <td id=\"T_99b5d_row0_col2\" class=\"data row0 col2\" >🥈</td>\n",
              "      <td id=\"T_99b5d_row0_col3\" class=\"data row0 col3\" >🥇</td>\n",
              "      <td id=\"T_99b5d_row0_col4\" class=\"data row0 col4\" >3</td>\n",
              "    </tr>\n",
              "    <tr>\n",
              "      <td id=\"T_99b5d_row1_col0\" class=\"data row1 col0\" >Manager 1 Name</td>\n",
              "      <td id=\"T_99b5d_row1_col1\" class=\"data row1 col1\" >🥇</td>\n",
              "      <td id=\"T_99b5d_row1_col2\" class=\"data row1 col2\" ></td>\n",
              "      <td id=\"T_99b5d_row1_col3\" class=\"data row1 col3\" >🥉</td>\n",
              "      <td id=\"T_99b5d_row1_col4\" class=\"data row1 col4\" >2</td>\n",
              "    </tr>\n",
              "    <tr>\n",
              "      <td id=\"T_99b5d_row2_col0\" class=\"data row2 col0\" >Manager 2 Name</td>\n",
              "      <td id=\"T_99b5d_row2_col1\" class=\"data row2 col1\" >🥈</td>\n",
              "      <td id=\"T_99b5d_row2_col2\" class=\"data row2 col2\" >🥇</td>\n",
              "      <td id=\"T_99b5d_row2_col3\" class=\"data row2 col3\" ></td>\n",
              "      <td id=\"T_99b5d_row2_col4\" class=\"data row2 col4\" >2</td>\n",
              "    </tr>\n",
              "    <tr>\n",
              "      <td id=\"T_99b5d_row3_col0\" class=\"data row3 col0\" >Manager N Name</td>\n",
              "      <td id=\"T_99b5d_row3_col1\" class=\"data row3 col1\" ></td>\n",
              "      <td id=\"T_99b5d_row3_col2\" class=\"data row3 col2\" >🥉</td>\n",
              "      <td id=\"T_99b5d_row3_col3\" class=\"data row3 col3\" >🥈</td>\n",
              "      <td id=\"T_99b5d_row3_col4\" class=\"data row3 col4\" >2</td>\n",
              "    </tr>\n",
              "  </tbody>\n",
              "</table>\n"
            ]
          },
          "metadata": {}
        }
      ]
    },
    {
      "cell_type": "markdown",
      "source": [
        "### Last Place Finishes (2022)\n",
        "\n",
        "Shows a table of league last place finishes since this application was created."
      ],
      "metadata": {
        "id": "nv79t7m4wrpa"
      }
    },
    {
      "cell_type": "code",
      "source": [
        "# TODO - use games table to calculate regular season record and PF/PA to determine last place finisher"
      ],
      "metadata": {
        "id": "80qydZDpwxlX"
      },
      "execution_count": null,
      "outputs": []
    },
    {
      "cell_type": "markdown",
      "source": [
        "### League Manager PF & PA (2022)\n",
        "\n",
        "Shows a table of league managers all-time \"points for\" and \"points against\" since this application was created."
      ],
      "metadata": {
        "id": "kZSkf9G8oSow"
      }
    },
    {
      "cell_type": "code",
      "source": [
        "# TODO - use games table to calculate all-time PF and PA, display total PA/PF, and average PF/PA"
      ],
      "metadata": {
        "id": "cz_fmzVmq7o3"
      },
      "execution_count": null,
      "outputs": []
    },
    {
      "cell_type": "markdown",
      "source": [
        "### League Manager PF & PA by Year"
      ],
      "metadata": {
        "id": "Bc5jOU5HY3uI"
      }
    },
    {
      "cell_type": "code",
      "source": [
        "# TODO - modify above function to handle parameter for year"
      ],
      "metadata": {
        "id": "U9bheIE2Y-FM"
      },
      "execution_count": null,
      "outputs": []
    },
    {
      "cell_type": "markdown",
      "source": [
        "### Average Game Point Differential"
      ],
      "metadata": {
        "id": "asvZ3K3Wu6m1"
      }
    },
    {
      "cell_type": "code",
      "source": [
        "# TODO"
      ],
      "metadata": {
        "id": "OJSBigzQvAhg"
      },
      "execution_count": null,
      "outputs": []
    },
    {
      "cell_type": "markdown",
      "source": [
        "### Average PA & PF"
      ],
      "metadata": {
        "id": "Lh4viOkdvVQ6"
      }
    },
    {
      "cell_type": "code",
      "source": [
        "# TODO"
      ],
      "metadata": {
        "id": "GL6rb0eevYYa"
      },
      "execution_count": null,
      "outputs": []
    },
    {
      "cell_type": "markdown",
      "source": [
        "### Highest/Lowest Points"
      ],
      "metadata": {
        "id": "sZtguMAIv_of"
      }
    },
    {
      "cell_type": "code",
      "source": [
        "# TODO"
      ],
      "metadata": {
        "id": "sjivbwDhwE1H"
      },
      "execution_count": null,
      "outputs": []
    }
  ]
}